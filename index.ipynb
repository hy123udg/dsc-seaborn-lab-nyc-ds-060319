{
 "cells": [
  {
   "cell_type": "markdown",
   "metadata": {},
   "source": [
    "# Seaborn - Lab\n",
    "\n",
    "## Introduction\n",
    "\n",
    "In this lab, we'll get some practice working with a second, more advanced visualization library, **_Seaborn_**!\n",
    "\n",
    "## Objectives\n",
    "\n",
    "You will be able to:\n",
    "\n",
    "* Understand the relationship between Seaborn and Matplotlib, and when to use each \n",
    "* Create basic visualizations with Seaborn\n",
    "\n",
    "## Getting Started\n",
    "\n",
    "In this lab, we'll explore several different kinds of visualizations we can create with Seaborn. Seaborn is built on top of Matplotlib, so you'll find that it will feel quite familiar. \n",
    "\n",
    "Let's get started by importing some things and creating a toy dataset to work with for our first visualization. \n",
    "\n",
    "\n",
    "In the cell below: \n",
    "\n",
    "* Import `numpy` and set the standard alias of `np`\n",
    "* Import `seaborn` and set the standard alias of `sns`\n",
    "* Set `%matplotlib inline` so that our visualizations appear in the notebook, and not as separate files"
   ]
  },
  {
   "cell_type": "code",
   "execution_count": 11,
   "metadata": {},
   "outputs": [],
   "source": [
    "import numpy as np\n",
    "import pandas as pd\n",
    "import matplotlib.pyplot as plt\n",
    "import seaborn as sns\n",
    "sns.set()\n",
    "%matplotlib inline"
   ]
  },
  {
   "cell_type": "markdown",
   "metadata": {},
   "source": [
    "Great! Now, run the cell below to create a sample dataset. "
   ]
  },
  {
   "cell_type": "code",
   "execution_count": 12,
   "metadata": {},
   "outputs": [],
   "source": [
    "data = np.random.normal(size=(20, 10)) + np.arange(10) / 2"
   ]
  },
  {
   "cell_type": "code",
   "execution_count": 13,
   "metadata": {},
   "outputs": [
    {
     "data": {
      "text/plain": [
       "array([[-0.12347518,  2.17017625,  2.76471059,  1.19015808,  1.88480174,\n",
       "         2.7115826 ,  2.32106322,  3.9144826 ,  3.37068085,  5.38847237],\n",
       "       [ 0.54813639, -0.47355783,  1.17950259, -0.10269859,  1.13337686,\n",
       "         0.73548343,  4.03109898,  4.12945934,  3.99256733,  4.17057772],\n",
       "       [ 0.18009605,  0.94118088,  0.64960435,  1.75255812,  2.45023094,\n",
       "         0.79481758,  2.99035216,  5.87514649,  1.50608922,  4.7505645 ],\n",
       "       [ 1.53561269, -1.38029196,  0.13058311,  0.74087538,  1.44727044,\n",
       "         1.95047121,  3.30818863,  4.14457221,  5.44917589,  4.72957635],\n",
       "       [ 1.55807361,  1.31655853, -0.22903937,  2.26800162,  1.94596216,\n",
       "         1.89268905,  1.51943395,  2.30328558,  5.95195628,  5.9514506 ],\n",
       "       [ 0.44556297,  1.69884473,  0.05261963,  1.8172225 ,  0.85397025,\n",
       "         2.39666578,  2.15200509,  2.24650159,  4.07213513,  5.38835603],\n",
       "       [-0.71884924,  1.46613377,  1.72636619, -0.12944467,  1.01506128,\n",
       "         1.91073056,  2.1797599 ,  4.60718006,  4.17409003,  4.72800525],\n",
       "       [ 1.22139282,  1.20739083,  2.1955527 ,  3.61989923,  1.95655609,\n",
       "         2.94732843,  3.7065341 ,  4.74506412,  3.59056495,  4.57412823],\n",
       "       [-1.00774649,  0.21836864, -0.09429018,  2.1280135 ,  1.41770151,\n",
       "         3.27741533,  4.31906508,  2.56359576,  3.56132128,  6.36787549],\n",
       "       [-0.20099757, -0.9407329 ,  0.8148265 ,  2.29642348,  3.03895624,\n",
       "         3.51762447,  3.0345256 ,  3.58598113,  4.71313444,  4.71014076],\n",
       "       [ 0.45148   , -0.33272295,  0.02160332,  2.1625685 ,  0.45511601,\n",
       "         2.83348068,  2.61026716,  2.88175235,  3.9552721 ,  2.85482598],\n",
       "       [ 0.70092584,  0.88107825,  1.2509065 ,  1.38545207,  2.01088483,\n",
       "         2.36486278,  4.30208002,  3.79121281,  4.48526246,  3.75198074],\n",
       "       [ 0.48642045,  2.84730701, -0.15333033,  1.91551869,  2.49980327,\n",
       "         4.04156762,  4.57364745,  2.80853565,  3.32300647,  2.90760813],\n",
       "       [-2.8048168 , -0.49125584,  1.32858851,  0.64760917, -0.1344656 ,\n",
       "         2.03310958,  3.19881599,  4.75949424,  4.13228546,  4.55864102],\n",
       "       [ 0.25624543,  0.27594124, -0.14331328,  0.94967412,  0.48735595,\n",
       "         3.63732391,  2.7823945 ,  3.81150257,  4.19191435,  4.39806623],\n",
       "       [-1.42897659,  0.74536183, -0.72609323,  1.0785211 ,  2.26290315,\n",
       "         4.12788363,  2.60795822,  5.09252234,  3.55790876,  2.64357213],\n",
       "       [ 1.79692727, -0.20208318, -0.76882518,  1.91736598,  0.65637989,\n",
       "         2.6319093 ,  3.13834662,  5.1815541 ,  6.05291993,  3.69902572],\n",
       "       [ 0.78322537,  1.56092273,  1.02740203,  1.05576787,  3.18337258,\n",
       "         1.8449013 ,  2.79653838,  2.55874692,  4.24162721,  3.22953205],\n",
       "       [-0.66283954,  0.12059769,  1.96724022,  2.11811846,  0.88062445,\n",
       "         2.40734418,  2.17652091,  2.96566672,  3.46106262,  4.29913396],\n",
       "       [-1.01920616,  0.1881561 , -0.51432668,  1.89560275, -0.29307786,\n",
       "         3.50462589,  3.08872646,  1.62262157,  2.09171785,  6.28333595]])"
      ]
     },
     "execution_count": 13,
     "metadata": {},
     "output_type": "execute_result"
    }
   ],
   "source": [
    "data"
   ]
  },
  {
   "cell_type": "markdown",
   "metadata": {},
   "source": [
    "### Basic Visualiations with Seaborn\n",
    "\n",
    "We'll start off by creating a boxplot with the dataset we just created so that we can get a feel for the common workflow of Seaborn. \n",
    "\n",
    "In the cell below:\n",
    "\n",
    "* Create a `boxplot` and pass in the parameter `data=data`. Store the object returned in the variable `boxplot`"
   ]
  },
  {
   "cell_type": "code",
   "execution_count": 14,
   "metadata": {},
   "outputs": [
    {
     "data": {
      "image/png": "[encoded data removed]",
      "text/plain": [
       "<Figure size 432x288 with 1 Axes>"
      ]
     },
     "metadata": {
      "needs_background": "light"
     },
     "output_type": "display_data"
    }
   ],
   "source": [
    "boxplot = sns.boxplot(data = data)"
   ]
  },
  {
   "cell_type": "markdown",
   "metadata": {},
   "source": [
    "That's a nice looking visualization, for only a single line of code! However, it's missing axis labels and a title. Let's fix that. \n",
    "\n",
    "In the cell below: \n",
    "\n",
    "* Copy and paste the code from the cell above to recreate our boxplot\n",
    "* Call the `boxplot` object's `set()` method and pass in the following parameters:\n",
    "    * `xlabel= 'X Label'`\n",
    "    * `ylabel= 'Y Label'`\n",
    "    * `title = 'Example Boxplot'`    "
   ]
  },
  {
   "cell_type": "code",
   "execution_count": 22,
   "metadata": {},
   "outputs": [
    {
     "data": {
      "text/plain": [
       "[Text(0, 0.5, 'Y Label'),\n",
       " Text(0.5, 0, 'X Label'),\n",
       " Text(0.5, 1.0, 'Example Boxplot')]"
      ]
     },
     "execution_count": 22,
     "metadata": {},
     "output_type": "execute_result"
    },
    {
     "data": {
      "image/png": "[encoded data removed]",
      "text/plain": [
       "<Figure size 432x288 with 1 Axes>"
      ]
     },
     "metadata": {},
     "output_type": "display_data"
    }
   ],
   "source": [
    "sns.set_style('darkgrid')\n",
    "sns.boxplot(data = data).set(xlabel = 'X Label', ylabel = 'Y Label', title = 'Example Boxplot')"
   ]
  },
  {
   "cell_type": "markdown",
   "metadata": {},
   "source": [
    "That wasn't too bad! Note that we can also use **_Method Chaining_** to set all the label and title information by combining the two lines in the cell above!\n",
    "\n",
    "In the cell below:\n",
    "\n",
    "* Recreate the labeled boxplot by calling `.set()` and passing in the appropriate parameter values immediately after calling `sns.boxplot(data=data)` to create the visualization. \n",
    "\n",
    "**_NOTE_**: For this visualization, you do not need to store the object in a variable. Just call the methods."
   ]
  },
  {
   "cell_type": "code",
   "execution_count": null,
   "metadata": {},
   "outputs": [],
   "source": []
  },
  {
   "cell_type": "markdown",
   "metadata": {},
   "source": [
    "Great! As you can see, Seaborn is a pretty easy library to work with. It also has very detailed and easy-to-follow documentation, complete with a ton of examples and tutorials. If you're ever unsure of how to build something, don't be afraid to look at the [Seaborn Documentation](https://seaborn.pydata.org/), or Google!\n",
    "\n",
    "### Changing Style and Context\n",
    "\n",
    "One of the main reasons Data Scientists love Seaborn is because the visualizations it creates are just plain prettier than those made by matplotlib. Seaborn makes it very simple to style our visualizations--all we need to do is use the `set_style()` method!\n",
    "\n",
    "In the cell below:\n",
    "\n",
    "* Call Seaborn's `set_style()` method and pass in the string `'darkgrid'`. \n",
    "* Recreate the labeled boxplot that we made in the cell above. "
   ]
  },
  {
   "cell_type": "code",
   "execution_count": null,
   "metadata": {
    "scrolled": true
   },
   "outputs": [],
   "source": []
  },
  {
   "cell_type": "markdown",
   "metadata": {},
   "source": [
    "That's much easier to read! There are several different styles that we can choose from. To see examples of the different styles we can use, check out the [documentation](https://seaborn.pydata.org/tutorial/aesthetics.html) for controlling figure aesthetics.\n",
    "\n",
    "Before we move on, let's make one more change. While the plot looks much better now, the size of the text for ticks and axis labels so small that it would be hard for people to read it unless they're right in front of the monitor--that's a problem, if the visualizations are going to be used in something like a tech talk or presentation!\n",
    "\n",
    "For this reason, we can also set the context, using the--you guessed it--`set_context()` method!\n",
    "\n",
    "In the cell below:\n",
    "\n",
    "* Call Seaborn's `set_context()` method and pass in the string `'poster'`.\n",
    "* Recreate the labeled boxplot that we made in the cell above."
   ]
  },
  {
   "cell_type": "code",
   "execution_count": null,
   "metadata": {},
   "outputs": [],
   "source": [
    "sns.set_style('darkgrid')\n",
    "sns.set\n",
    "sns.boxplot(data = data).set(xlabel = 'X Label', ylabel = 'Y Label', title = 'Example Boxplot')"
   ]
  },
  {
   "cell_type": "markdown",
   "metadata": {},
   "source": [
    "Much better! That's much more readable. From smallest to largest, the different context settings we can use are `'paper'`, `'notebook'`, `'talk'`, and `'poster'`. \n",
    "\n",
    "### A  Quick Note on Contexts and Styles\n",
    "\n",
    "When you call `set_context` or `set_style`, you're setting a global parameter that will apply to all future plots you create during this session. Any visualizations you have already created will not change--however, they will change if you rerun the cell that created them! \n",
    "\n",
    "Let's change our context back to `'notebook'` so that the next visualizations we create don't look too big. \n",
    "\n",
    "In the cell below, change the context back to `'notebook'`."
   ]
  },
  {
   "cell_type": "code",
   "execution_count": null,
   "metadata": {},
   "outputs": [],
   "source": []
  },
  {
   "cell_type": "markdown",
   "metadata": {},
   "source": [
    "## More Advanced Visualizations\n",
    "\n",
    "One awesome feature of Seaborn is the ability to quickly and easily create advanced visualizations such as **_Regression Plots_**. To end this lab, we'll see a few examples, and explore how they are created. \n",
    "\n",
    "### Regression Lines with Confidence Intervals\n",
    "\n",
    "There are also several different types of regression plots Seaborn makes available for this purpose. For this example, we're going to create an advanced regression plot that also visualizes the confidence interval for our regression line. We'll even have the visualization **_condition on_** a 3rd variable, to show how the regression lines differ for each group, depending on the value of the 3rd variable. \n",
    "\n",
    "For this visualization, we'll need a more advanced dataset than the example we created and used above. Luckily, Seaborn comes with some preloaded datasets. We can see the names of all the datasets by calling Seaborn's `get_dataset_names()` method. \n",
    "\n",
    "Do this now in the cell below."
   ]
  },
  {
   "cell_type": "code",
   "execution_count": null,
   "metadata": {},
   "outputs": [],
   "source": []
  },
  {
   "cell_type": "markdown",
   "metadata": {},
   "source": [
    "Great! For the reamainder of this notebook, we'll use the `'tips'` dataset. We can get this dataset by calling Seaborn's `load_dataset()` method and passing in the string `'tips'`. Seaborn is even considerate enough to return the dataset as a pandas DataFrame!\n",
    "\n",
    "In the cell below, get the tips dataset and store it in the variable `tips`. Then, display the head of the DataFrame so we can see what we're working with. "
   ]
  },
  {
   "cell_type": "code",
   "execution_count": null,
   "metadata": {},
   "outputs": [],
   "source": [
    "tips = None\n"
   ]
  },
  {
   "cell_type": "markdown",
   "metadata": {},
   "source": [
    "Now that we have our dataset, we can create our regression plot. There are several kinds of regression plots we can use. For this example, we'll use the `lmplot` function. \n",
    "\n",
    "In the cell below: \n",
    "\n",
    "* Call Seaborn's `lmplot` function and pass in the following arguments:\n",
    "    * `x='total_bill'`\n",
    "    * `y='tip'`\n",
    "    * `hue='smoker'`\n",
    "    * `data= tips`"
   ]
  },
  {
   "cell_type": "code",
   "execution_count": null,
   "metadata": {},
   "outputs": [],
   "source": []
  },
  {
   "cell_type": "markdown",
   "metadata": {},
   "source": [
    "Very cool! That visualization contains _a lot_ of information, and it does it in a way that is easy to interpret and understand. Best of all, it didn't take much work on our part--all we had to do was tell the function the name of the column to use for the x axis, the name of the column to use for the y axis, and the name of the variable to condition on, as denoted by the two different colors. \n",
    "\n",
    "If we want to get even more ambitious, we can create mutiple subplots by using the `row=` and `column=` parameters, as well! \n",
    "\n",
    "Run the cell below to see an example, and see if you can figure out how the code works. "
   ]
  },
  {
   "cell_type": "code",
   "execution_count": null,
   "metadata": {},
   "outputs": [],
   "source": [
    "sns.lmplot(x=\"total_bill\", y=\"tip\", hue=\"smoker\",\n",
    "           col=\"time\", row=\"sex\", data=tips)"
   ]
  },
  {
   "cell_type": "markdown",
   "metadata": {},
   "source": [
    "## Summary\n",
    "\n",
    "In this lab, we explored the **_Seaborn_** library, and explored the sorts of data visualizations we can create with it!"
   ]
  }
 ],
 "metadata": {
  "kernelspec": {
   "display_name": "Python 3",
   "language": "python",
   "name": "python3"
  },
  "language_info": {
   "codemirror_mode": {
    "name": "ipython",
    "version": 3
   },
   "file_extension": ".py",
   "mimetype": "text/x-python",
   "name": "python",
   "nbconvert_exporter": "python",
   "pygments_lexer": "ipython3",
   "version": "3.6.6"
  }
 },
 "nbformat": 4,
 "nbformat_minor": 2
}
